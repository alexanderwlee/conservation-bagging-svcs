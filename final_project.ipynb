{
 "metadata": {
  "language_info": {
   "codemirror_mode": {
    "name": "ipython",
    "version": 3
   },
   "file_extension": ".py",
   "mimetype": "text/x-python",
   "name": "python",
   "nbconvert_exporter": "python",
   "pygments_lexer": "ipython3",
   "version": "3.7.7-final"
  },
  "orig_nbformat": 2,
  "kernelspec": {
   "name": "python3",
   "display_name": "Python 3"
  }
 },
 "nbformat": 4,
 "nbformat_minor": 2,
 "cells": [
  {
   "source": [
    "## Library installations and imports"
   ],
   "cell_type": "markdown",
   "metadata": {}
  },
  {
   "cell_type": "code",
   "execution_count": null,
   "metadata": {},
   "outputs": [],
   "source": [
    "# uncomment and run this cell for google colab\n",
    "\n",
    "# from google.colab import drive\n",
    "# drive.mount('/content/gdrive/')\n",
    "# %cd /content/gdrive/MyDrive/COSC-247/Final\\ Project/conservation-bagging-svcs"
   ]
  },
  {
   "cell_type": "code",
   "execution_count": 1,
   "metadata": {},
   "outputs": [],
   "source": [
    "%%capture\n",
    "%pip install pmlb"
   ]
  },
  {
   "cell_type": "code",
   "execution_count": 1,
   "metadata": {},
   "outputs": [],
   "source": [
    "from drivers import easy_driver, clf_driver, openml_driver, pmlb_driver\n",
    "import pandas as pd"
   ]
  },
  {
   "source": [
    "## Run experiments on datasets"
   ],
   "cell_type": "markdown",
   "metadata": {}
  },
  {
   "cell_type": "code",
   "execution_count": null,
   "metadata": {},
   "outputs": [],
   "source": [
    "easy_driver()\n",
    "clf_driver()\n",
    "openml_driver()\n",
    "pmlb_driver()"
   ]
  },
  {
   "source": [
    "## Results"
   ],
   "cell_type": "markdown",
   "metadata": {}
  },
  {
   "cell_type": "code",
   "execution_count": 18,
   "metadata": {},
   "outputs": [],
   "source": [
    "def get_mean_std_df(df):\n",
    "    return df.describe().iloc[1:3, 1:]"
   ]
  },
  {
   "source": [
    "### Easy"
   ],
   "cell_type": "markdown",
   "metadata": {}
  },
  {
   "cell_type": "code",
   "execution_count": 21,
   "metadata": {},
   "outputs": [
    {
     "output_type": "execute_result",
     "data": {
      "text/plain": [
       "      bag_svc   factory  super_ensemble  workshop_100  workshop_300  \\\n",
       "mean  0.96100  0.961333        0.961333      0.996000      0.996000   \n",
       "std   0.00594  0.005259        0.006885      0.003443      0.003443   \n",
       "\n",
       "      workshop_500  \n",
       "mean      0.996000  \n",
       "std       0.003443  "
      ],
      "text/html": "<div>\n<style scoped>\n    .dataframe tbody tr th:only-of-type {\n        vertical-align: middle;\n    }\n\n    .dataframe tbody tr th {\n        vertical-align: top;\n    }\n\n    .dataframe thead th {\n        text-align: right;\n    }\n</style>\n<table border=\"1\" class=\"dataframe\">\n  <thead>\n    <tr style=\"text-align: right;\">\n      <th></th>\n      <th>bag_svc</th>\n      <th>factory</th>\n      <th>super_ensemble</th>\n      <th>workshop_100</th>\n      <th>workshop_300</th>\n      <th>workshop_500</th>\n    </tr>\n  </thead>\n  <tbody>\n    <tr>\n      <th>mean</th>\n      <td>0.96100</td>\n      <td>0.961333</td>\n      <td>0.961333</td>\n      <td>0.996000</td>\n      <td>0.996000</td>\n      <td>0.996000</td>\n    </tr>\n    <tr>\n      <th>std</th>\n      <td>0.00594</td>\n      <td>0.005259</td>\n      <td>0.006885</td>\n      <td>0.003443</td>\n      <td>0.003443</td>\n      <td>0.003443</td>\n    </tr>\n  </tbody>\n</table>\n</div>"
     },
     "metadata": {},
     "execution_count": 21
    }
   ],
   "source": [
    "iris_results = pd.read_csv('results/iris_results.csv')\n",
    "get_mean_std_df(iris_results)"
   ]
  },
  {
   "cell_type": "code",
   "execution_count": null,
   "metadata": {},
   "outputs": [],
   "source": []
  }
 ]
}