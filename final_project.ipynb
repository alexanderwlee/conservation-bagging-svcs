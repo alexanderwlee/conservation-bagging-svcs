{
 "metadata": {
  "language_info": {
   "codemirror_mode": {
    "name": "ipython",
    "version": 3
   },
   "file_extension": ".py",
   "mimetype": "text/x-python",
   "name": "python",
   "nbconvert_exporter": "python",
   "pygments_lexer": "ipython3",
   "version": "3.7.7-final"
  },
  "orig_nbformat": 2,
  "kernelspec": {
   "name": "python3",
   "display_name": "Python 3"
  }
 },
 "nbformat": 4,
 "nbformat_minor": 2,
 "cells": [
  {
   "source": [
    "## Run experiments on datasets"
   ],
   "cell_type": "markdown",
   "metadata": {}
  },
  {
   "cell_type": "code",
   "execution_count": null,
   "metadata": {},
   "outputs": [],
   "source": [
    "# uncomment and run this cell for google colab\n",
    "\n",
    "# from google.colab import drive\n",
    "# drive.mount('/content/gdrive/')\n",
    "# %cd /content/gdrive/MyDrive/COSC-247/Final\\ Project/conservation-bagging-svcs"
   ]
  },
  {
   "cell_type": "code",
   "execution_count": null,
   "metadata": {},
   "outputs": [],
   "source": [
    "%%capture\n",
    "%pip install pmlb"
   ]
  },
  {
   "cell_type": "code",
   "execution_count": null,
   "metadata": {},
   "outputs": [],
   "source": [
    "from drivers import easy_driver, clf_driver, openml_driver, pmlb_driver"
   ]
  },
  {
   "cell_type": "code",
   "execution_count": null,
   "metadata": {},
   "outputs": [],
   "source": [
    "easy_driver()\n",
    "clf_driver()\n",
    "openml_driver()\n",
    "pmlb_driver()"
   ]
  },
  {
   "source": [
    "## Results"
   ],
   "cell_type": "markdown",
   "metadata": {}
  },
  {
   "cell_type": "code",
   "execution_count": 1,
   "metadata": {},
   "outputs": [],
   "source": [
    "from transform_results import get_combined_results"
   ]
  },
  {
   "cell_type": "code",
   "execution_count": 2,
   "metadata": {},
   "outputs": [
    {
     "output_type": "execute_result",
     "data": {
      "text/plain": [
       "    source                    dataset  bag_svc  factory  super_ensemble  \\\n",
       "0     Easy                       iris     96.1     96.1            96.1   \n",
       "1     Easy                       wine     98.4     98.4            98.4   \n",
       "2     Easy              breast cancer     97.7     97.7            97.6   \n",
       "3     Easy                     digits     98.1     98.1            98.1   \n",
       "4      Clf              500_400_200_4     43.7     43.6            43.7   \n",
       "5      Clf              1000_100_90_2     89.6     89.6            89.5   \n",
       "6      Clf             1000_300_200_4     58.1     58.0            58.2   \n",
       "7   OpenML          teachingAssistant     57.7     58.4            58.2   \n",
       "8   OpenML            monk-problems-2     74.0     74.3            74.0   \n",
       "9   OpenML  one-hundred-plants-margin     79.8     79.9            79.9   \n",
       "10    PMLB                      cloud     26.1     25.7            25.6   \n",
       "11    PMLB                     biomed     89.3     89.4            89.4   \n",
       "12    PMLB             car_evaluation     97.3     97.3            97.3   \n",
       "13    PMLB                     allrep     96.7     96.7            96.7   \n",
       "\n",
       "    workshop_100  workshop_300  workshop_500  \n",
       "0           99.6          99.6          99.6  \n",
       "1          100.0         100.0         100.0  \n",
       "2           99.1          99.1          99.1  \n",
       "3           98.8          98.8          98.8  \n",
       "4           48.2          48.3          48.4  \n",
       "5           92.0          92.1          92.0  \n",
       "6           60.3          60.3          60.4  \n",
       "7           69.1          68.7          69.0  \n",
       "8           80.8          81.2          81.2  \n",
       "9           81.9          81.9          82.0  \n",
       "10          46.8          47.1          46.8  \n",
       "11          95.0          95.0          95.0  \n",
       "12          99.2          99.3          99.3  \n",
       "13          97.0          97.1          97.1  "
      ],
      "text/html": "<div>\n<style scoped>\n    .dataframe tbody tr th:only-of-type {\n        vertical-align: middle;\n    }\n\n    .dataframe tbody tr th {\n        vertical-align: top;\n    }\n\n    .dataframe thead th {\n        text-align: right;\n    }\n</style>\n<table border=\"1\" class=\"dataframe\">\n  <thead>\n    <tr style=\"text-align: right;\">\n      <th></th>\n      <th>source</th>\n      <th>dataset</th>\n      <th>bag_svc</th>\n      <th>factory</th>\n      <th>super_ensemble</th>\n      <th>workshop_100</th>\n      <th>workshop_300</th>\n      <th>workshop_500</th>\n    </tr>\n  </thead>\n  <tbody>\n    <tr>\n      <th>0</th>\n      <td>Easy</td>\n      <td>iris</td>\n      <td>96.1</td>\n      <td>96.1</td>\n      <td>96.1</td>\n      <td>99.6</td>\n      <td>99.6</td>\n      <td>99.6</td>\n    </tr>\n    <tr>\n      <th>1</th>\n      <td>Easy</td>\n      <td>wine</td>\n      <td>98.4</td>\n      <td>98.4</td>\n      <td>98.4</td>\n      <td>100.0</td>\n      <td>100.0</td>\n      <td>100.0</td>\n    </tr>\n    <tr>\n      <th>2</th>\n      <td>Easy</td>\n      <td>breast cancer</td>\n      <td>97.7</td>\n      <td>97.7</td>\n      <td>97.6</td>\n      <td>99.1</td>\n      <td>99.1</td>\n      <td>99.1</td>\n    </tr>\n    <tr>\n      <th>3</th>\n      <td>Easy</td>\n      <td>digits</td>\n      <td>98.1</td>\n      <td>98.1</td>\n      <td>98.1</td>\n      <td>98.8</td>\n      <td>98.8</td>\n      <td>98.8</td>\n    </tr>\n    <tr>\n      <th>4</th>\n      <td>Clf</td>\n      <td>500_400_200_4</td>\n      <td>43.7</td>\n      <td>43.6</td>\n      <td>43.7</td>\n      <td>48.2</td>\n      <td>48.3</td>\n      <td>48.4</td>\n    </tr>\n    <tr>\n      <th>5</th>\n      <td>Clf</td>\n      <td>1000_100_90_2</td>\n      <td>89.6</td>\n      <td>89.6</td>\n      <td>89.5</td>\n      <td>92.0</td>\n      <td>92.1</td>\n      <td>92.0</td>\n    </tr>\n    <tr>\n      <th>6</th>\n      <td>Clf</td>\n      <td>1000_300_200_4</td>\n      <td>58.1</td>\n      <td>58.0</td>\n      <td>58.2</td>\n      <td>60.3</td>\n      <td>60.3</td>\n      <td>60.4</td>\n    </tr>\n    <tr>\n      <th>7</th>\n      <td>OpenML</td>\n      <td>teachingAssistant</td>\n      <td>57.7</td>\n      <td>58.4</td>\n      <td>58.2</td>\n      <td>69.1</td>\n      <td>68.7</td>\n      <td>69.0</td>\n    </tr>\n    <tr>\n      <th>8</th>\n      <td>OpenML</td>\n      <td>monk-problems-2</td>\n      <td>74.0</td>\n      <td>74.3</td>\n      <td>74.0</td>\n      <td>80.8</td>\n      <td>81.2</td>\n      <td>81.2</td>\n    </tr>\n    <tr>\n      <th>9</th>\n      <td>OpenML</td>\n      <td>one-hundred-plants-margin</td>\n      <td>79.8</td>\n      <td>79.9</td>\n      <td>79.9</td>\n      <td>81.9</td>\n      <td>81.9</td>\n      <td>82.0</td>\n    </tr>\n    <tr>\n      <th>10</th>\n      <td>PMLB</td>\n      <td>cloud</td>\n      <td>26.1</td>\n      <td>25.7</td>\n      <td>25.6</td>\n      <td>46.8</td>\n      <td>47.1</td>\n      <td>46.8</td>\n    </tr>\n    <tr>\n      <th>11</th>\n      <td>PMLB</td>\n      <td>biomed</td>\n      <td>89.3</td>\n      <td>89.4</td>\n      <td>89.4</td>\n      <td>95.0</td>\n      <td>95.0</td>\n      <td>95.0</td>\n    </tr>\n    <tr>\n      <th>12</th>\n      <td>PMLB</td>\n      <td>car_evaluation</td>\n      <td>97.3</td>\n      <td>97.3</td>\n      <td>97.3</td>\n      <td>99.2</td>\n      <td>99.3</td>\n      <td>99.3</td>\n    </tr>\n    <tr>\n      <th>13</th>\n      <td>PMLB</td>\n      <td>allrep</td>\n      <td>96.7</td>\n      <td>96.7</td>\n      <td>96.7</td>\n      <td>97.0</td>\n      <td>97.1</td>\n      <td>97.1</td>\n    </tr>\n  </tbody>\n</table>\n</div>"
     },
     "metadata": {},
     "execution_count": 2
    }
   ],
   "source": [
    "get_combined_results()"
   ]
  }
 ]
}