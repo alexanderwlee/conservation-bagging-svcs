{
 "cells": [
  {
   "cell_type": "code",
   "execution_count": 7,
   "metadata": {},
   "outputs": [],
   "source": [
    "from sklearn.datasets import make_classification\n",
    "import pandas as pd\n",
    "from helpers import experiment"
   ]
  },
  {
   "cell_type": "code",
   "execution_count": 5,
   "metadata": {},
   "outputs": [],
   "source": [
    "X, y = make_classification(random_state=0)"
   ]
  },
  {
   "cell_type": "code",
   "execution_count": 11,
   "metadata": {},
   "outputs": [
    {
     "output_type": "execute_result",
     "data": {
      "text/plain": [
       "array([3, 2, 1])"
      ]
     },
     "metadata": {},
     "execution_count": 11
    }
   ],
   "source": [
    "df = pd.read_csv('datasets/teachingAssistant.csv')\n",
    "df "
   ]
  },
  {
   "cell_type": "code",
   "execution_count": 6,
   "metadata": {},
   "outputs": [
    {
     "output_type": "stream",
     "name": "stdout",
     "text": [
      "rep: 1\n",
      "\tfold: 1\n",
      "\t\trun: 1\n",
      "\t\tsvc_bag_score: 0.9\n",
      "\t\trun: 2\n",
      "\t\tsvc_bag_score: 0.9\n",
      "\t\trun: 3\n",
      "\t\tsvc_bag_score: 0.9\n",
      "\t\trun: 4\n",
      "\t\tsvc_bag_score: 0.9\n",
      "\t\trun: 5\n",
      "\t\tsvc_bag_score: 0.9\n",
      "\t\trun: 6\n",
      "\t\tsvc_bag_score: 0.9\n",
      "\t\trun: 7\n",
      "\t\tsvc_bag_score: 0.9\n",
      "\t\trun: 8\n",
      "\t\tsvc_bag_score: 0.9\n",
      "\t\trun: 9\n",
      "\t\tsvc_bag_score: 0.9\n",
      "\t\trun: 10\n",
      "\t\tsvc_bag_score: 0.9\n",
      "\tfactory_score: 0.9\n",
      "\tsuper_ensemble_score: 0.9\n",
      "\tgarage_100_score: 0.95\n",
      "\tgarage_300_score: 0.95\n",
      "\tgarage_1000_score: 0.95\n",
      "\tfold: 2\n",
      "\t\trun: 1\n",
      "\t\tsvc_bag_score: 0.75\n",
      "\t\trun: 2\n",
      "\t\tsvc_bag_score: 0.75\n",
      "\t\trun: 3\n",
      "\t\tsvc_bag_score: 0.75\n",
      "\t\trun: 4\n",
      "\t\tsvc_bag_score: 0.75\n",
      "\t\trun: 5\n",
      "\t\tsvc_bag_score: 0.75\n",
      "\t\trun: 6\n",
      "\t\tsvc_bag_score: 0.75\n",
      "\t\trun: 7\n",
      "\t\tsvc_bag_score: 0.75\n",
      "\t\trun: 8\n",
      "\t\tsvc_bag_score: 0.75\n",
      "\t\trun: 9\n",
      "\t\tsvc_bag_score: 0.75\n",
      "\t\trun: 10\n",
      "\t\tsvc_bag_score: 0.75\n",
      "\tfactory_score: 0.75\n",
      "\tsuper_ensemble_score: 0.75\n",
      "\tgarage_100_score: 0.85\n",
      "\tgarage_300_score: 0.85\n",
      "\tgarage_1000_score: 0.85\n",
      "\tfold: 3\n",
      "\t\trun: 1\n",
      "\t\tsvc_bag_score: 0.9\n",
      "\t\trun: 2\n",
      "\t\tsvc_bag_score: 0.9\n",
      "\t\trun: 3\n",
      "\t\tsvc_bag_score: 0.9\n",
      "\t\trun: 4\n",
      "\t\tsvc_bag_score: 0.9\n",
      "\t\trun: 5\n",
      "\t\tsvc_bag_score: 0.9\n",
      "\t\trun: 6\n",
      "\t\tsvc_bag_score: 0.9\n",
      "\t\trun: 7\n",
      "\t\tsvc_bag_score: 0.9\n",
      "\t\trun: 8\n",
      "\t\tsvc_bag_score: 0.9\n",
      "\t\trun: 9\n",
      "\t\tsvc_bag_score: 0.9\n",
      "\t\trun: 10\n",
      "\t\tsvc_bag_score: 0.9\n",
      "\tfactory_score: 0.9\n",
      "\tsuper_ensemble_score: 0.9\n",
      "\tgarage_100_score: 1.0\n",
      "\tgarage_300_score: 1.0\n",
      "\tgarage_1000_score: 1.0\n",
      "\tfold: 4\n",
      "\t\trun: 1\n",
      "\t\tsvc_bag_score: 0.8\n",
      "\t\trun: 2\n",
      "\t\tsvc_bag_score: 0.8\n",
      "\t\trun: 3\n",
      "\t\tsvc_bag_score: 0.8\n",
      "\t\trun: 4\n",
      "\t\tsvc_bag_score: 0.8\n",
      "\t\trun: 5\n",
      "\t\tsvc_bag_score: 0.8\n",
      "\t\trun: 6\n",
      "\t\tsvc_bag_score: 0.8\n",
      "\t\trun: 7\n",
      "\t\tsvc_bag_score: 0.8\n",
      "\t\trun: 8\n",
      "\t\tsvc_bag_score: 0.8\n",
      "\t\trun: 9\n",
      "\t\tsvc_bag_score: 0.8\n",
      "\t\trun: 10\n",
      "\t\tsvc_bag_score: 0.8\n",
      "\tfactory_score: 0.8\n",
      "\tsuper_ensemble_score: 0.8\n",
      "\tgarage_100_score: 1.0\n",
      "\tgarage_300_score: 1.0\n",
      "\tgarage_1000_score: 1.0\n",
      "\tfold: 5\n",
      "\t\trun: 1\n",
      "\t\tsvc_bag_score: 0.8\n",
      "\t\trun: 2\n",
      "\t\tsvc_bag_score: 0.8\n",
      "\t\trun: 3\n",
      "\t\tsvc_bag_score: 0.8\n",
      "\t\trun: 4\n",
      "\t\tsvc_bag_score: 0.8\n",
      "\t\trun: 5\n",
      "\t\tsvc_bag_score: 0.8\n",
      "\t\trun: 6\n",
      "\t\tsvc_bag_score: 0.8\n",
      "\t\trun: 7\n",
      "\t\tsvc_bag_score: 0.8\n",
      "\t\trun: 8\n",
      "\t\tsvc_bag_score: 0.8\n",
      "\t\trun: 9\n",
      "\t\tsvc_bag_score: 0.8\n",
      "\t\trun: 10\n",
      "\t\tsvc_bag_score: 0.8\n",
      "\tfactory_score: 0.8\n",
      "\tsuper_ensemble_score: 0.8\n",
      "\tgarage_100_score: 0.9\n",
      "\tgarage_300_score: 0.9\n",
      "\tgarage_1000_score: 0.9\n"
     ]
    }
   ],
   "source": [
    "experiment(X, y, n_repl=1, n_runs=10)"
   ]
  }
 ],
 "metadata": {
  "kernelspec": {
   "name": "python3",
   "display_name": "Python 3.7.7 64-bit ('base': conda)",
   "metadata": {
    "interpreter": {
     "hash": "ff8493de8ee5b023bdc0d448d68e185218988186457b320d8bcc0cd2ef63e52f"
    }
   }
  },
  "language_info": {
   "codemirror_mode": {
    "name": "ipython",
    "version": 3
   },
   "file_extension": ".py",
   "mimetype": "text/x-python",
   "name": "python",
   "nbconvert_exporter": "python",
   "pygments_lexer": "ipython3",
   "version": "3.7.7-final"
  }
 },
 "nbformat": 4,
 "nbformat_minor": 4
}